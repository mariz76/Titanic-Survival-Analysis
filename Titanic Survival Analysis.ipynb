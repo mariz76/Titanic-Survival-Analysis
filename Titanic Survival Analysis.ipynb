{
 "cells": [
  {
   "cell_type": "markdown",
   "id": "56b90ac5-86a0-48bb-a923-fb2936d147ac",
   "metadata": {},
   "source": [
    "## Importing Libraries and Loading the Dataset"
   ]
  },
  {
   "cell_type": "code",
   "execution_count": 53,
   "id": "f2da154e-27db-4cb9-b433-40950873b84d",
   "metadata": {},
   "outputs": [],
   "source": [
    "import pandas as pd\n",
    "from IPython.display import display\n",
    "import seaborn as sns\n",
    "import matplotlib.pyplot as plt\n",
    "\n",
    "titanic_df = pd.read_csv('titanic.csv')"
   ]
  },
  {
   "cell_type": "markdown",
   "id": "1ae57048-02bf-4bd9-9639-9692bb6d74d5",
   "metadata": {},
   "source": [
    "## Calculating Class-wise Statistics\n",
    "###### Here, I calculate statistics for passenger age and fare grouped by class. This includes mean, median, min, max, and count for both age and fare, allowing us to compare characteristics across passenger classes."
   ]
  },
  {
   "cell_type": "code",
   "execution_count": 56,
   "id": "1d051029-a02e-414a-9eb4-efa1051085f3",
   "metadata": {},
   "outputs": [
    {
     "data": {
      "text/html": [
       "<div>\n",
       "<style scoped>\n",
       "    .dataframe tbody tr th:only-of-type {\n",
       "        vertical-align: middle;\n",
       "    }\n",
       "\n",
       "    .dataframe tbody tr th {\n",
       "        vertical-align: top;\n",
       "    }\n",
       "\n",
       "    .dataframe thead th {\n",
       "        text-align: right;\n",
       "    }\n",
       "</style>\n",
       "<table border=\"1\" class=\"dataframe\">\n",
       "  <thead>\n",
       "    <tr style=\"text-align: right;\">\n",
       "      <th></th>\n",
       "      <th>age_mean</th>\n",
       "      <th>age_median</th>\n",
       "      <th>age_min</th>\n",
       "      <th>age_max</th>\n",
       "      <th>age_count</th>\n",
       "      <th>fare_mean</th>\n",
       "      <th>fare_median</th>\n",
       "      <th>fare_min</th>\n",
       "      <th>fare_max</th>\n",
       "      <th>fare_count</th>\n",
       "    </tr>\n",
       "    <tr>\n",
       "      <th>class</th>\n",
       "      <th></th>\n",
       "      <th></th>\n",
       "      <th></th>\n",
       "      <th></th>\n",
       "      <th></th>\n",
       "      <th></th>\n",
       "      <th></th>\n",
       "      <th></th>\n",
       "      <th></th>\n",
       "      <th></th>\n",
       "    </tr>\n",
       "  </thead>\n",
       "  <tbody>\n",
       "    <tr>\n",
       "      <th>First</th>\n",
       "      <td>38.233441</td>\n",
       "      <td>37.0</td>\n",
       "      <td>0.92</td>\n",
       "      <td>80.0</td>\n",
       "      <td>186</td>\n",
       "      <td>84.154687</td>\n",
       "      <td>60.2875</td>\n",
       "      <td>0.0</td>\n",
       "      <td>512.3292</td>\n",
       "      <td>216</td>\n",
       "    </tr>\n",
       "    <tr>\n",
       "      <th>Second</th>\n",
       "      <td>29.877630</td>\n",
       "      <td>29.0</td>\n",
       "      <td>0.67</td>\n",
       "      <td>70.0</td>\n",
       "      <td>173</td>\n",
       "      <td>20.662183</td>\n",
       "      <td>14.2500</td>\n",
       "      <td>0.0</td>\n",
       "      <td>73.5000</td>\n",
       "      <td>184</td>\n",
       "    </tr>\n",
       "    <tr>\n",
       "      <th>Third</th>\n",
       "      <td>25.140620</td>\n",
       "      <td>24.0</td>\n",
       "      <td>0.42</td>\n",
       "      <td>74.0</td>\n",
       "      <td>355</td>\n",
       "      <td>13.675550</td>\n",
       "      <td>8.0500</td>\n",
       "      <td>0.0</td>\n",
       "      <td>69.5500</td>\n",
       "      <td>491</td>\n",
       "    </tr>\n",
       "  </tbody>\n",
       "</table>\n",
       "</div>"
      ],
      "text/plain": [
       "         age_mean  age_median  age_min  age_max  age_count  fare_mean  \\\n",
       "class                                                                   \n",
       "First   38.233441        37.0     0.92     80.0        186  84.154687   \n",
       "Second  29.877630        29.0     0.67     70.0        173  20.662183   \n",
       "Third   25.140620        24.0     0.42     74.0        355  13.675550   \n",
       "\n",
       "        fare_median  fare_min  fare_max  fare_count  \n",
       "class                                                \n",
       "First       60.2875       0.0  512.3292         216  \n",
       "Second      14.2500       0.0   73.5000         184  \n",
       "Third        8.0500       0.0   69.5500         491  "
      ]
     },
     "metadata": {},
     "output_type": "display_data"
    }
   ],
   "source": [
    "class_stats = titanic_df.groupby('class').agg({\n",
    "    'age': ['mean', 'median', 'min', 'max', 'count'],\n",
    "    'fare': ['mean', 'median', 'min', 'max', 'count']\n",
    "})\n",
    "\n",
    "class_stats.columns = ['age_mean', 'age_median', 'age_min', 'age_max', 'age_count',\n",
    "                       'fare_mean', 'fare_median', 'fare_min', 'fare_max', 'fare_count']\n",
    "\n",
    "display(class_stats)"
   ]
  },
  {
   "cell_type": "markdown",
   "id": "150088f2-bc61-4344-943e-3b65750bdc54",
   "metadata": {},
   "source": [
    "## Survival Rates by Class and Demographics"
   ]
  },
  {
   "cell_type": "markdown",
   "id": "05a5f338-4de0-438f-910d-36505d0754bc",
   "metadata": {},
   "source": [
    "### Survival by Passenger `Class`\n",
    "###### Here, I calculate the survival probabilities for each passenger class (First, Second, and Third). This helps highlight how passengers in higher classes had better chances of survival, with the survival rate being highest for first-class passengers and lowest for third-class passengers."
   ]
  },
  {
   "cell_type": "code",
   "execution_count": 60,
   "id": "9a1fa7ad-3591-4125-bd69-fb1dfa999139",
   "metadata": {},
   "outputs": [
    {
     "data": {
      "text/html": [
       "<div>\n",
       "<style scoped>\n",
       "    .dataframe tbody tr th:only-of-type {\n",
       "        vertical-align: middle;\n",
       "    }\n",
       "\n",
       "    .dataframe tbody tr th {\n",
       "        vertical-align: top;\n",
       "    }\n",
       "\n",
       "    .dataframe thead th {\n",
       "        text-align: right;\n",
       "    }\n",
       "</style>\n",
       "<table border=\"1\" class=\"dataframe\">\n",
       "  <thead>\n",
       "    <tr style=\"text-align: right;\">\n",
       "      <th></th>\n",
       "      <th>class</th>\n",
       "      <th>survival_probability</th>\n",
       "    </tr>\n",
       "  </thead>\n",
       "  <tbody>\n",
       "    <tr>\n",
       "      <th>0</th>\n",
       "      <td>First</td>\n",
       "      <td>0.629630</td>\n",
       "    </tr>\n",
       "    <tr>\n",
       "      <th>1</th>\n",
       "      <td>Second</td>\n",
       "      <td>0.472826</td>\n",
       "    </tr>\n",
       "    <tr>\n",
       "      <th>2</th>\n",
       "      <td>Third</td>\n",
       "      <td>0.242363</td>\n",
       "    </tr>\n",
       "  </tbody>\n",
       "</table>\n",
       "</div>"
      ],
      "text/plain": [
       "    class  survival_probability\n",
       "0   First              0.629630\n",
       "1  Second              0.472826\n",
       "2   Third              0.242363"
      ]
     },
     "metadata": {},
     "output_type": "display_data"
    }
   ],
   "source": [
    "survival_by_class = titanic_df.groupby('class')['survived'].mean()\n",
    "\n",
    "survival_by_class_df = survival_by_class.reset_index()\n",
    "survival_by_class_df.columns = ['class', 'survival_probability']\n",
    "\n",
    "display(survival_by_class_df)"
   ]
  },
  {
   "cell_type": "code",
   "execution_count": 65,
   "id": "1adc10d5-6c77-40c7-9a45-515527d08ba1",
   "metadata": {},
   "outputs": [
    {
     "data": {
      "image/png": "[encoded data removed]",
      "text/plain": [
       "<Figure size 800x500 with 1 Axes>"
      ]
     },
     "metadata": {},
     "output_type": "display_data"
    }
   ],
   "source": [
    "plt.figure(figsize=(8, 5))\n",
    "sns.barplot(data=survival_by_class_df, x=\"class\", y=\"survival_probability\", hue=\"class\", dodge=False)\n",
    "plt.title(\"Survival Rates by Passenger Class\", fontsize=16)\n",
    "plt.xlabel(\"Passenger Class\", fontsize=14)\n",
    "plt.ylabel(\"Survival Probability\", fontsize=14)\n",
    "plt.ylim(0, 1)\n",
    "plt.legend([], [], frameon=False)  \n",
    "plt.show()"
   ]
  },
  {
   "cell_type": "markdown",
   "id": "16ba0434-40b4-4dc8-a8f8-ce23b8fd6acf",
   "metadata": {},
   "source": [
    "### Survival by Demographics `Who`\n",
    "###### Next, I calculate survival probabilities based on the who category (e.g., men, women, children). This provides insights into how different demographic groups were affected in terms of survival."
   ]
  },
  {
   "cell_type": "code",
   "execution_count": 68,
   "id": "e7a39d32-c2bc-4e75-bd03-502370faf6b2",
   "metadata": {},
   "outputs": [
    {
     "data": {
      "text/html": [
       "<div>\n",
       "<style scoped>\n",
       "    .dataframe tbody tr th:only-of-type {\n",
       "        vertical-align: middle;\n",
       "    }\n",
       "\n",
       "    .dataframe tbody tr th {\n",
       "        vertical-align: top;\n",
       "    }\n",
       "\n",
       "    .dataframe thead th {\n",
       "        text-align: right;\n",
       "    }\n",
       "</style>\n",
       "<table border=\"1\" class=\"dataframe\">\n",
       "  <thead>\n",
       "    <tr style=\"text-align: right;\">\n",
       "      <th></th>\n",
       "      <th>who</th>\n",
       "      <th>survival_probability</th>\n",
       "    </tr>\n",
       "  </thead>\n",
       "  <tbody>\n",
       "    <tr>\n",
       "      <th>0</th>\n",
       "      <td>child</td>\n",
       "      <td>0.590361</td>\n",
       "    </tr>\n",
       "    <tr>\n",
       "      <th>1</th>\n",
       "      <td>man</td>\n",
       "      <td>0.163873</td>\n",
       "    </tr>\n",
       "    <tr>\n",
       "      <th>2</th>\n",
       "      <td>woman</td>\n",
       "      <td>0.756458</td>\n",
       "    </tr>\n",
       "  </tbody>\n",
       "</table>\n",
       "</div>"
      ],
      "text/plain": [
       "     who  survival_probability\n",
       "0  child              0.590361\n",
       "1    man              0.163873\n",
       "2  woman              0.756458"
      ]
     },
     "metadata": {},
     "output_type": "display_data"
    }
   ],
   "source": [
    "survival_by_who = titanic_df.groupby('who')['survived'].mean()\n",
    "\n",
    "survival_by_who_df = survival_by_who.reset_index()\n",
    "survival_by_who_df.columns = ['who', 'survival_probability']\n",
    "\n",
    "display(survival_by_who_df)"
   ]
  },
  {
   "cell_type": "code",
   "execution_count": 74,
   "id": "39f01dab-bce0-40d6-9261-cfbe82c94491",
   "metadata": {},
   "outputs": [
    {
     "data": {
      "image/png": "[encoded data removed]",
      "text/plain": [
       "<Figure size 800x500 with 1 Axes>"
      ]
     },
     "metadata": {},
     "output_type": "display_data"
    }
   ],
   "source": [
    "plt.figure(figsize=(8, 5))\n",
    "sns.barplot(data=survival_by_who_df, x=\"who\", y=\"survival_probability\", hue=\"who\", dodge=False)\n",
    "plt.title(\"Survival Rates by Demographics (Who)\", fontsize=16)\n",
    "plt.xlabel(\"Demographics (Who)\", fontsize=14)\n",
    "plt.ylabel(\"Survival Probability\", fontsize=14)\n",
    "plt.ylim(0, 1)\n",
    "plt.legend([], [], frameon=False)  \n",
    "plt.show()"
   ]
  },
  {
   "cell_type": "markdown",
   "id": "18cc1534-0571-44a0-bea3-c75d4078eb27",
   "metadata": {},
   "source": [
    "## Passenger and Survivor Counts by Embarkation Town and Deck\n",
    "###### In this section, I grouped the data by embark_town and deck to calculate the number of passengers and survivors for each combination. This helps us understand how survival and passenger distribution varied across embarkation points and deck locations."
   ]
  },
  {
   "cell_type": "code",
   "execution_count": 63,
   "id": "1fc9ad17-1e91-4bed-ab3b-59aacac3efe5",
   "metadata": {},
   "outputs": [
    {
     "data": {
      "text/html": [
       "<div>\n",
       "<style scoped>\n",
       "    .dataframe tbody tr th:only-of-type {\n",
       "        vertical-align: middle;\n",
       "    }\n",
       "\n",
       "    .dataframe tbody tr th {\n",
       "        vertical-align: top;\n",
       "    }\n",
       "\n",
       "    .dataframe thead th {\n",
       "        text-align: right;\n",
       "    }\n",
       "</style>\n",
       "<table border=\"1\" class=\"dataframe\">\n",
       "  <thead>\n",
       "    <tr style=\"text-align: right;\">\n",
       "      <th></th>\n",
       "      <th>embark_town</th>\n",
       "      <th>deck</th>\n",
       "      <th>passenger_count</th>\n",
       "      <th>survivor_count</th>\n",
       "    </tr>\n",
       "  </thead>\n",
       "  <tbody>\n",
       "    <tr>\n",
       "      <th>0</th>\n",
       "      <td>Cherbourg</td>\n",
       "      <td>A</td>\n",
       "      <td>7</td>\n",
       "      <td>4</td>\n",
       "    </tr>\n",
       "    <tr>\n",
       "      <th>1</th>\n",
       "      <td>Cherbourg</td>\n",
       "      <td>B</td>\n",
       "      <td>22</td>\n",
       "      <td>17</td>\n",
       "    </tr>\n",
       "    <tr>\n",
       "      <th>2</th>\n",
       "      <td>Cherbourg</td>\n",
       "      <td>C</td>\n",
       "      <td>21</td>\n",
       "      <td>14</td>\n",
       "    </tr>\n",
       "    <tr>\n",
       "      <th>3</th>\n",
       "      <td>Cherbourg</td>\n",
       "      <td>D</td>\n",
       "      <td>13</td>\n",
       "      <td>11</td>\n",
       "    </tr>\n",
       "    <tr>\n",
       "      <th>4</th>\n",
       "      <td>Cherbourg</td>\n",
       "      <td>E</td>\n",
       "      <td>5</td>\n",
       "      <td>5</td>\n",
       "    </tr>\n",
       "    <tr>\n",
       "      <th>5</th>\n",
       "      <td>Cherbourg</td>\n",
       "      <td>F</td>\n",
       "      <td>1</td>\n",
       "      <td>1</td>\n",
       "    </tr>\n",
       "    <tr>\n",
       "      <th>6</th>\n",
       "      <td>Queenstown</td>\n",
       "      <td>C</td>\n",
       "      <td>2</td>\n",
       "      <td>1</td>\n",
       "    </tr>\n",
       "    <tr>\n",
       "      <th>7</th>\n",
       "      <td>Queenstown</td>\n",
       "      <td>E</td>\n",
       "      <td>1</td>\n",
       "      <td>1</td>\n",
       "    </tr>\n",
       "    <tr>\n",
       "      <th>8</th>\n",
       "      <td>Queenstown</td>\n",
       "      <td>F</td>\n",
       "      <td>1</td>\n",
       "      <td>0</td>\n",
       "    </tr>\n",
       "    <tr>\n",
       "      <th>9</th>\n",
       "      <td>Southampton</td>\n",
       "      <td>A</td>\n",
       "      <td>8</td>\n",
       "      <td>3</td>\n",
       "    </tr>\n",
       "    <tr>\n",
       "      <th>10</th>\n",
       "      <td>Southampton</td>\n",
       "      <td>B</td>\n",
       "      <td>23</td>\n",
       "      <td>16</td>\n",
       "    </tr>\n",
       "    <tr>\n",
       "      <th>11</th>\n",
       "      <td>Southampton</td>\n",
       "      <td>C</td>\n",
       "      <td>36</td>\n",
       "      <td>20</td>\n",
       "    </tr>\n",
       "    <tr>\n",
       "      <th>12</th>\n",
       "      <td>Southampton</td>\n",
       "      <td>D</td>\n",
       "      <td>20</td>\n",
       "      <td>14</td>\n",
       "    </tr>\n",
       "    <tr>\n",
       "      <th>13</th>\n",
       "      <td>Southampton</td>\n",
       "      <td>E</td>\n",
       "      <td>26</td>\n",
       "      <td>18</td>\n",
       "    </tr>\n",
       "    <tr>\n",
       "      <th>14</th>\n",
       "      <td>Southampton</td>\n",
       "      <td>F</td>\n",
       "      <td>11</td>\n",
       "      <td>7</td>\n",
       "    </tr>\n",
       "    <tr>\n",
       "      <th>15</th>\n",
       "      <td>Southampton</td>\n",
       "      <td>G</td>\n",
       "      <td>4</td>\n",
       "      <td>2</td>\n",
       "    </tr>\n",
       "  </tbody>\n",
       "</table>\n",
       "</div>"
      ],
      "text/plain": [
       "    embark_town deck  passenger_count  survivor_count\n",
       "0     Cherbourg    A                7               4\n",
       "1     Cherbourg    B               22              17\n",
       "2     Cherbourg    C               21              14\n",
       "3     Cherbourg    D               13              11\n",
       "4     Cherbourg    E                5               5\n",
       "5     Cherbourg    F                1               1\n",
       "6    Queenstown    C                2               1\n",
       "7    Queenstown    E                1               1\n",
       "8    Queenstown    F                1               0\n",
       "9   Southampton    A                8               3\n",
       "10  Southampton    B               23              16\n",
       "11  Southampton    C               36              20\n",
       "12  Southampton    D               20              14\n",
       "13  Southampton    E               26              18\n",
       "14  Southampton    F               11               7\n",
       "15  Southampton    G                4               2"
      ]
     },
     "metadata": {},
     "output_type": "display_data"
    }
   ],
   "source": [
    "embark_deck_stats = titanic_df.groupby(['embark_town', 'deck']).agg({\n",
    "    'survived': ['count', 'sum']\n",
    "})\n",
    "\n",
    "embark_deck_stats.columns = ['passenger_count', 'survivor_count']\n",
    "\n",
    "embark_deck_stats_df = embark_deck_stats.reset_index()\n",
    "\n",
    "display(embark_deck_stats_df)"
   ]
  },
  {
   "cell_type": "code",
   "execution_count": 66,
   "id": "119c9858-6ff8-41cb-92fb-d7b0fecf7f90",
   "metadata": {},
   "outputs": [
    {
     "data": {
      "image/png": "[encoded data removed]",
      "text/plain": [
       "<Figure size 848x500 with 1 Axes>"
      ]
     },
     "metadata": {},
     "output_type": "display_data"
    }
   ],
   "source": [
    "sns.catplot(data=titanic_df, kind=\"bar\", x=\"class\", y=\"survived\", hue=\"sex\", height=5, aspect=1.5)\n",
    "plt.title(\"Survival Rates by Passenger Class and Gender\")\n",
    "plt.ylabel(\"Survival Probability\")\n",
    "plt.xlabel(\"Passenger Class\")\n",
    "plt.show()"
   ]
  }
 ],
 "metadata": {
  "kernelspec": {
   "display_name": "Python 3 (ipykernel)",
   "language": "python",
   "name": "python3"
  },
  "language_info": {
   "codemirror_mode": {
    "name": "ipython",
    "version": 3
   },
   "file_extension": ".py",
   "mimetype": "text/x-python",
   "name": "python",
   "nbconvert_exporter": "python",
   "pygments_lexer": "ipython3",
   "version": "3.12.2"
  }
 },
 "nbformat": 4,
 "nbformat_minor": 5
}
